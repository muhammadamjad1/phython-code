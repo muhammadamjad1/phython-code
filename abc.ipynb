{
 "cells": [
  {
   "cell_type": "code",
   "execution_count": 17,
   "metadata": {},
   "outputs": [
    {
     "name": "stdout",
     "output_type": "stream",
     "text": [
      "welcome to python\n"
     ]
    }
   ],
   "source": [
    "print(\"welcome to python\")"
   ]
  },
  {
   "cell_type": "code",
   "execution_count": 18,
   "metadata": {},
   "outputs": [
    {
     "name": "stdout",
     "output_type": "stream",
     "text": [
      "12345678\n"
     ]
    }
   ],
   "source": [
    "print(\"12345678\")"
   ]
  },
  {
   "cell_type": "code",
   "execution_count": 18,
   "metadata": {},
   "outputs": [
    {
     "name": "stdout",
     "output_type": "stream",
     "text": [
      "hello world python series\n"
     ]
    }
   ],
   "source": [
    "print(\"hello world\", \"python series\")\n",
    "\n"
   ]
  },
  {
   "cell_type": "code",
   "execution_count": 20,
   "metadata": {},
   "outputs": [
    {
     "name": "stdout",
     "output_type": "stream",
     "text": [
      "Fail.....\n"
     ]
    }
   ],
   "source": [
    "m=int(input(\"Enter Value\"))\n",
    "if m>33:\n",
    "  print(\"pass\")\n",
    "elif m==33:\n",
    "    print(\"Reati Passs\")\n",
    "\n",
    "else:\n",
    "  print(\"Fail.....\")"
   ]
  },
  {
   "cell_type": "code",
   "execution_count": null,
   "metadata": {},
   "outputs": [],
   "source": [
    "fruits = {'apple', 'banana', 'cherry'}\n",
    "fruits.add('orange') \n",
    "print(fruits)"
   ]
  },
  {
   "cell_type": "code",
   "execution_count": null,
   "metadata": {},
   "outputs": [],
   "source": []
  },
  {
   "cell_type": "code",
   "execution_count": 11,
   "metadata": {},
   "outputs": [
    {
     "name": "stdout",
     "output_type": "stream",
     "text": [
      "a 20\n",
      "10 20\n",
      "140731633027800 140731633028120\n",
      "hello\n",
      "35\n",
      "100\n"
     ]
    }
   ],
   "source": [
    "a=10\n",
    "b=20\n",
    "print('a',b)\n",
    "print(a,b)\n",
    "print(id(a),id(b))\n",
    "c=\"hello\"\n",
    "print(c)\n",
    "a1=35\n",
    "print(a1)\n",
    "a_b=100\n",
    "print(a_b)\n"
   ]
  },
  {
   "cell_type": "code",
   "execution_count": 21,
   "metadata": {},
   "outputs": [
    {
     "name": "stdout",
     "output_type": "stream",
     "text": [
      "Pass\n"
     ]
    }
   ],
   "source": [
    "value = int(input(\"Enter the value: \"))\n",
    "\n",
    "if value > 40:\n",
    "    print(\"Pass\")\n",
    "elif value == 32:\n",
    "    print(\"Fail\")\n",
    "else:\n",
    "    print(\"Neither Pass nor Fail\")\n",
    "\n",
    "\n"
   ]
  },
  {
   "cell_type": "code",
   "execution_count": 17,
   "metadata": {},
   "outputs": [
    {
     "name": "stdout",
     "output_type": "stream",
     "text": [
      "10 20\n",
      "20\n",
      "140731633027800 140731633028120\n",
      "35\n"
     ]
    }
   ],
   "source": [
    "a=10\n",
    "b=20\n",
    "print(a,b)\n",
    "print(b)\n",
    "print(id(a),id(b))\n",
    "a1=35\n",
    "print(a1)"
   ]
  },
  {
   "cell_type": "code",
   "execution_count": 1,
   "metadata": {},
   "outputs": [
    {
     "name": "stdout",
     "output_type": "stream",
     "text": [
      "90\n"
     ]
    }
   ],
   "source": [
    "m=int(input(\"enter the value\"));\n",
    "n=int(input(\"enter the value\"));\n",
    "#=m+n\n",
    "print(m+n)"
   ]
  },
  {
   "cell_type": "code",
   "execution_count": 23,
   "metadata": {},
   "outputs": [
    {
     "name": "stdout",
     "output_type": "stream",
     "text": [
      "484.0\n"
     ]
    }
   ],
   "source": [
    "a=int(input(\"enter the value\"))\n",
    "b=int(input(\"nter the value\"))\n",
    "c=int(input(\"nter the value\"))\n",
    "#=a*b/c\n",
    "print(a*b/c)"
   ]
  },
  {
   "cell_type": "code",
   "execution_count": 24,
   "metadata": {},
   "outputs": [],
   "source": [
    "#find the hotest day in a weak\n",
    "monday=(input(\"enter the value\"))\n",
    "tuesday=(input(\"enter the value\"))\n",
    "vensday=(input(\"enter the value\"))\n",
    "thursday=(input(\"enter the value\"))\n",
    "friday=(input(\"enter the value\"))\n",
    "saturday=(input(\"enter the value\"))\n",
    "sunday=(input(\"enter the value\"))\n",
    "#print the highest value\n",
    "print=(\"max value\")\n"
   ]
  },
  {
   "cell_type": "code",
   "execution_count": 25,
   "metadata": {},
   "outputs": [],
   "source": [
    "name=\"muhammad SAW\"\n",
    "age=\"63year\"\n",
    "print=(name)\n",
    "print=(age)"
   ]
  },
  {
   "cell_type": "code",
   "execution_count": 19,
   "metadata": {},
   "outputs": [
    {
     "name": "stdout",
     "output_type": "stream",
     "text": [
      "hello word\n"
     ]
    }
   ],
   "source": [
    "print(\"hello word\")"
   ]
  },
  {
   "cell_type": "code",
   "execution_count": null,
   "metadata": {},
   "outputs": [
    {
     "name": "stdout",
     "output_type": "stream",
     "text": [
      "muhammad SAW\n",
      "63\n"
     ]
    }
   ],
   "source": [
    "name=\"muhammad SAW\"\n",
    "age=63\n",
    "print (name)\n",
    "print (age)"
   ]
  },
  {
   "cell_type": "code",
   "execution_count": null,
   "metadata": {},
   "outputs": [
    {
     "name": "stdout",
     "output_type": "stream",
     "text": [
      "ali\n",
      "64\n",
      "ahmad\n"
     ]
    }
   ],
   "source": [
    "name=(\"ali\")\n",
    "age=(\"64\")\n",
    "name2=(\"ahmad\")\n",
    "print(name)\n",
    "print(age)\n",
    "print(name2)"
   ]
  },
  {
   "cell_type": "code",
   "execution_count": null,
   "metadata": {},
   "outputs": [
    {
     "name": "stdout",
     "output_type": "stream",
     "text": [
      "amjadali\n"
     ]
    }
   ],
   "source": [
    "name=(\"amjadali\")\n",
    "age=(\"19\")\n",
    "belong=(\"dgkhan\")\n",
    "print(name)"
   ]
  },
  {
   "cell_type": "code",
   "execution_count": null,
   "metadata": {},
   "outputs": [
    {
     "name": "stdout",
     "output_type": "stream",
     "text": [
      "genius\n"
     ]
    }
   ],
   "source": [
    "name=(\"tony stark\")\n",
    "age=(\"51year old\")\n",
    "ability=(\"genius\")\n",
    "print(ability)"
   ]
  },
  {
   "cell_type": "code",
   "execution_count": null,
   "metadata": {},
   "outputs": [
    {
     "name": "stdout",
     "output_type": "stream",
     "text": [
      "10.384615384615385\n"
     ]
    }
   ],
   "source": [
    "a=int(input(\"enter the value\"))\n",
    "b=int(input(\"enter the value\"))\n",
    "c=int(input(\"enter the value\"))\n",
    "#print=a*b/c\n",
    "print(a*b/c)"
   ]
  },
  {
   "cell_type": "code",
   "execution_count": null,
   "metadata": {},
   "outputs": [],
   "source": [
    "a=input(\"enter the value\")\n",
    "b=input(\"enter the value\")\n",
    "c=input(\"enter the value\")\n",
    "d=input(\"enter the value\")\n",
    "e=input(\"enter the value\")\n",
    "f=input(\"enter the value\")\n",
    "#display the highest temprature\n",
    "print=(\"display the highest temprature\")"
   ]
  },
  {
   "cell_type": "code",
   "execution_count": null,
   "metadata": {},
   "outputs": [
    {
     "name": "stdout",
     "output_type": "stream",
     "text": [
      "\n"
     ]
    }
   ],
   "source": [
    "name=input(\"what is ypur hero\")\n",
    "print(name)"
   ]
  },
  {
   "cell_type": "code",
   "execution_count": null,
   "metadata": {},
   "outputs": [
    {
     "name": "stdout",
     "output_type": "stream",
     "text": [
      "Sum of the list: 157\n"
     ]
    }
   ],
   "source": [
    "# Create a list\n",
    "my_list = [1, 2, 34, 45, 67, 8]\n",
    "\n",
    "# Calculate the sum of the list\n",
    "list_sum = sum(my_list)\n",
    "\n",
    "# Print the result\n",
    "print(\"Sum of the list:\", list_sum)\n"
   ]
  },
  {
   "cell_type": "code",
   "execution_count": null,
   "metadata": {},
   "outputs": [],
   "source": [
    "function = [\"i love pakistan\"]\n",
    "#display on screen 100 times\n",
    "run =(\"for loop\")\n",
    "print =(function)\n",
    "run =(\"for loop\")"
   ]
  },
  {
   "cell_type": "code",
   "execution_count": null,
   "metadata": {},
   "outputs": [],
   "source": [
    "numbers=[1,2,3,4,5,6,7,8]\n",
    "prinr= (numbers)"
   ]
  },
  {
   "cell_type": "code",
   "execution_count": null,
   "metadata": {},
   "outputs": [
    {
     "name": "stdout",
     "output_type": "stream",
     "text": [
      "1\n",
      "2\n",
      "3\n",
      "4\n",
      "5\n"
     ]
    }
   ],
   "source": [
    "# Simple for loop to print numbers from 1 to 5\n",
    "for i in range(1, 6):\n",
    "    print(i)\n"
   ]
  },
  {
   "cell_type": "code",
   "execution_count": null,
   "metadata": {},
   "outputs": [
    {
     "name": "stdout",
     "output_type": "stream",
     "text": [
      "1\n",
      "2\n",
      "3\n",
      "4\n",
      "5\n"
     ]
    }
   ],
   "source": [
    "# Simple for loop to print numbers from 1 to 5\n",
    "for i in range(1, 6):\n",
    "    print(i)"
   ]
  },
  {
   "cell_type": "code",
   "execution_count": 25,
   "metadata": {},
   "outputs": [
    {
     "name": "stdout",
     "output_type": "stream",
     "text": [
      "hello wscubetech\n",
      "50\n"
     ]
    }
   ],
   "source": [
    "x = \"hello\"\n",
    "y=\"wscubetech\"\n",
    "print(x+\" \"+y)\n",
    "c=20\n",
    "print(c+30)\n"
   ]
  },
  {
   "cell_type": "code",
   "execution_count": 30,
   "metadata": {},
   "outputs": [
    {
     "name": "stdout",
     "output_type": "stream",
     "text": [
      "5\n",
      "5\n",
      "10\n",
      "5 5\n",
      "50\n"
     ]
    }
   ],
   "source": [
    "a=5\n",
    "b = 5\n",
    "print(a)\n",
    "print(b)\n",
    "print(a+b)\n",
    "print(a,b)\n",
    "a1=35\n",
    "print(a1+15)"
   ]
  },
  {
   "cell_type": "code",
   "execution_count": 33,
   "metadata": {},
   "outputs": [
    {
     "name": "stdout",
     "output_type": "stream",
     "text": [
      "adlasykoo\n",
      "pythonseries\n",
      "50\n"
     ]
    }
   ],
   "source": [
    "a=\"adla\"\n",
    "b=\"sykoo\"\n",
    "print(a+b)\n",
    "a=\"python\"\n",
    "b=\"series\"\n",
    "print(a+b)\n",
    "a=35\n",
    "b=15\n",
    "print(a+b)\n",
    "\n"
   ]
  },
  {
   "cell_type": "code",
   "execution_count": 37,
   "metadata": {},
   "outputs": [
    {
     "name": "stdout",
     "output_type": "stream",
     "text": [
      "10\n"
     ]
    }
   ],
   "source": [
    "a=5\n",
    "b=5\n",
    "print(a+b)\n"
   ]
  },
  {
   "cell_type": "code",
   "execution_count": null,
   "metadata": {},
   "outputs": [],
   "source": [
    "a=30\n",
    "class Foo:\n",
    "    b = 5\n",
    "\n",
    "dummyFoo = Foo()\n",
    "print('id of dummyFoo =',id(dummyFoo))"
   ]
  },
  {
   "cell_type": "code",
   "execution_count": 6,
   "metadata": {},
   "outputs": [
    {
     "name": "stdout",
     "output_type": "stream",
     "text": [
      "30\n",
      "-10\n",
      "200\n",
      "0.5\n",
      "2\n",
      "25\n",
      "1\n",
      "729\n"
     ]
    }
   ],
   "source": [
    "a=10\n",
    "b=20\n",
    "print(a+b)\n",
    "print(a-b)\n",
    "print(a*b)\n",
    "print(a/b)\n",
    "print(b%3)\n",
    "print(5**2)\n",
    "print(22%3)\n",
    "print(9**3) #9*9*9"
   ]
  },
  {
   "cell_type": "code",
   "execution_count": 12,
   "metadata": {},
   "outputs": [
    {
     "name": "stdout",
     "output_type": "stream",
     "text": [
      "25\n",
      "7.333333333333333\n",
      "7\n"
     ]
    }
   ],
   "source": [
    "print(100%75)\n",
    "print(22/3)\n",
    "print(22//3)"
   ]
  },
  {
   "cell_type": "code",
   "execution_count": null,
   "metadata": {},
   "outputs": [],
   "source": [
    "a =int(input(\"enter the value\"))\n",
    "if a > 40:\n",
    "    print(\"pass\")\n",
    "elif a <= 40:\n",
    "    print (\"fail\")\n",
    "else:\n",
    "    print(\"other thing\")"
   ]
  },
  {
   "cell_type": "code",
   "execution_count": 3,
   "metadata": {},
   "outputs": [
    {
     "name": "stdout",
     "output_type": "stream",
     "text": [
      "pass\n"
     ]
    }
   ],
   "source": [
    "a =int(input(\"enter the value\"))\n",
    "if a > 40:\n",
    "    print(\"pass\")\n",
    "elif a <= 40:\n",
    "    print (\"fail\")\n",
    "else:\n",
    "    print(\"other thing\")"
   ]
  },
  {
   "cell_type": "code",
   "execution_count": 11,
   "metadata": {},
   "outputs": [
    {
     "name": "stdout",
     "output_type": "stream",
     "text": [
      "fail\n"
     ]
    }
   ],
   "source": [
    "a=int((input)(\"enter the value\"))\n",
    "if a > 35:\n",
    "    print(\"pass\")\n",
    "elif a <= 20:\n",
    "    print(\"fail\")\n",
    "else:\n",
    "    print(\"thins\")"
   ]
  },
  {
   "cell_type": "code",
   "execution_count": 4,
   "metadata": {},
   "outputs": [
    {
     "name": "stdout",
     "output_type": "stream",
     "text": [
      "['ladla sykoo']\n",
      "['ladla sykoo']\n",
      "['ladla sykoo']\n",
      "['ladla sykoo']\n",
      "['ladla sykoo']\n",
      "['ladla sykoo']\n",
      "['ladla sykoo']\n",
      "['ladla sykoo']\n",
      "['ladla sykoo']\n",
      "['ladla sykoo']\n",
      "['ladla sykoo']\n",
      "['ladla sykoo']\n",
      "['ladla sykoo']\n",
      "['ladla sykoo']\n",
      "['ladla sykoo']\n",
      "['ladla sykoo']\n",
      "['ladla sykoo']\n",
      "['ladla sykoo']\n",
      "['ladla sykoo']\n",
      "['ladla sykoo']\n",
      "['ladla sykoo']\n",
      "['ladla sykoo']\n",
      "['ladla sykoo']\n",
      "['ladla sykoo']\n",
      "['ladla sykoo']\n",
      "['ladla sykoo']\n",
      "['ladla sykoo']\n",
      "['ladla sykoo']\n",
      "['ladla sykoo']\n",
      "['ladla sykoo']\n",
      "['ladla sykoo']\n",
      "['ladla sykoo']\n",
      "['ladla sykoo']\n",
      "['ladla sykoo']\n",
      "['ladla sykoo']\n",
      "['ladla sykoo']\n",
      "['ladla sykoo']\n",
      "['ladla sykoo']\n",
      "['ladla sykoo']\n",
      "['ladla sykoo']\n",
      "['ladla sykoo']\n",
      "['ladla sykoo']\n",
      "['ladla sykoo']\n",
      "['ladla sykoo']\n",
      "['ladla sykoo']\n",
      "['ladla sykoo']\n",
      "['ladla sykoo']\n",
      "['ladla sykoo']\n",
      "['ladla sykoo']\n",
      "['ladla sykoo']\n",
      "['ladla sykoo']\n",
      "['ladla sykoo']\n",
      "['ladla sykoo']\n",
      "['ladla sykoo']\n",
      "['ladla sykoo']\n",
      "['ladla sykoo']\n",
      "['ladla sykoo']\n",
      "['ladla sykoo']\n",
      "['ladla sykoo']\n",
      "['ladla sykoo']\n",
      "['ladla sykoo']\n",
      "['ladla sykoo']\n",
      "['ladla sykoo']\n",
      "['ladla sykoo']\n",
      "['ladla sykoo']\n",
      "['ladla sykoo']\n",
      "['ladla sykoo']\n",
      "['ladla sykoo']\n",
      "['ladla sykoo']\n",
      "['ladla sykoo']\n",
      "['ladla sykoo']\n",
      "['ladla sykoo']\n",
      "['ladla sykoo']\n",
      "['ladla sykoo']\n",
      "['ladla sykoo']\n",
      "['ladla sykoo']\n",
      "['ladla sykoo']\n",
      "['ladla sykoo']\n",
      "['ladla sykoo']\n",
      "['ladla sykoo']\n",
      "['ladla sykoo']\n",
      "['ladla sykoo']\n",
      "['ladla sykoo']\n",
      "['ladla sykoo']\n",
      "['ladla sykoo']\n",
      "['ladla sykoo']\n",
      "['ladla sykoo']\n",
      "['ladla sykoo']\n",
      "['ladla sykoo']\n",
      "['ladla sykoo']\n",
      "['ladla sykoo']\n",
      "['ladla sykoo']\n",
      "['ladla sykoo']\n",
      "['ladla sykoo']\n",
      "['ladla sykoo']\n",
      "['ladla sykoo']\n",
      "['ladla sykoo']\n",
      "['ladla sykoo']\n",
      "['ladla sykoo']\n",
      "['ladla sykoo']\n"
     ]
    }
   ],
   "source": [
    "import time\n",
    "lst=[\"ladla sykoo\"]\n",
    "for a in range(100):\n",
    "    \n",
    "    print (lst [0:])\n",
    "    #delay the lst for in ms(1000ms)\n",
    "time.sleep(1000)"
   ]
  },
  {
   "cell_type": "code",
   "execution_count": 4,
   "metadata": {},
   "outputs": [
    {
     "name": "stdout",
     "output_type": "stream",
     "text": [
      "pass\n"
     ]
    }
   ],
   "source": [
    "a= int(input(\"enter the value\"))\n",
    "if a > 35:\n",
    "    print (\"pass\")\n",
    "elif a <= 20:\n",
    "    print(\"fail\")\n",
    "else:\n",
    "    print(\"other\")\n",
    "    a\n",
    "    "
   ]
  },
  {
   "cell_type": "code",
   "execution_count": 3,
   "metadata": {},
   "outputs": [
    {
     "name": "stdout",
     "output_type": "stream",
     "text": [
      "something\n"
     ]
    }
   ],
   "source": [
    "a=int(input(\"enter the value\"))\n",
    "if a > 40:\n",
    "    print(\"pass\")\n",
    "elif a <= 30:\n",
    "    print(\"fail\")\n",
    "else:\n",
    "    print(\"something\")"
   ]
  },
  {
   "cell_type": "code",
   "execution_count": 19,
   "metadata": {},
   "outputs": [
    {
     "name": "stdout",
     "output_type": "stream",
     "text": [
      "['1', '2', '3']\n"
     ]
    }
   ],
   "source": [
    "lst = [\"1\", \"2\", \"3\", \"4\", \"5\", \"6\", \"7\", \"8\"]\n",
    "element = lst[1]\n",
    "print(lst[0:3])\n",
    "\n"
   ]
  },
  {
   "cell_type": "code",
   "execution_count": 2,
   "metadata": {},
   "outputs": [
    {
     "name": "stdout",
     "output_type": "stream",
     "text": [
      "['1', '2', '3', '4', '5', '6', '7', '8', '9']\n",
      "['1', '2', '3', '4', '5', '6', '7', '8', '9']\n",
      "['1', '2', '3', '4', '5', '6', '7', '8', '9']\n",
      "['1', '2', '3', '4', '5', '6', '7', '8', '9']\n",
      "['1', '2', '3', '4', '5', '6', '7', '8', '9']\n"
     ]
    }
   ],
   "source": [
    "lst = [\"1,2,3,4,5,6,7,8,9\"]\n",
    "# Split the string into a list of individual elements\n",
    "elements = lst[0].split(',')\n",
    "\n",
    "for a in range(5):  # Fix: Use an integer argument in the range function\n",
    "    print(elements)\n"
   ]
  },
  {
   "cell_type": "code",
   "execution_count": 1,
   "metadata": {},
   "outputs": [
    {
     "name": "stdout",
     "output_type": "stream",
     "text": [
      "68\n"
     ]
    }
   ],
   "source": [
    "m=int(input(\"enter the value\"));\n",
    "n=int(input(\"enter the value\"));\n",
    "#=m+n\n",
    "print(m+n)"
   ]
  },
  {
   "cell_type": "code",
   "execution_count": 5,
   "metadata": {},
   "outputs": [
    {
     "ename": "SyntaxError",
     "evalue": "unmatched ')' (572691033.py, line 1)",
     "output_type": "error",
     "traceback": [
      "\u001b[1;36m  Cell \u001b[1;32mIn[5], line 1\u001b[1;36m\u001b[0m\n\u001b[1;33m    m=int ((input)\"enter the value\"))\u001b[0m\n\u001b[1;37m                                    ^\u001b[0m\n\u001b[1;31mSyntaxError\u001b[0m\u001b[1;31m:\u001b[0m unmatched ')'\n"
     ]
    }
   ],
   "source": [
    "\n"
   ]
  },
  {
   "cell_type": "code",
   "execution_count": 3,
   "metadata": {},
   "outputs": [],
   "source": [
    "a=int((input)(\"enter the value\"))\n",
    "b=int((input)(\"enter the value\"))\n",
    "r=(a+b)"
   ]
  },
  {
   "cell_type": "code",
   "execution_count": 1,
   "metadata": {},
   "outputs": [
    {
     "name": "stdout",
     "output_type": "stream",
     "text": [
      "True\n"
     ]
    }
   ],
   "source": [
    "a=\"heloo\"\n",
    "print('h'in a)"
   ]
  },
  {
   "cell_type": "code",
   "execution_count": 5,
   "metadata": {},
   "outputs": [
    {
     "name": "stdout",
     "output_type": "stream",
     "text": [
      "False\n"
     ]
    }
   ],
   "source": [
    "a=\"aldjh\"\"wdhqwq\"\n",
    "print('p'in a)"
   ]
  },
  {
   "cell_type": "code",
   "execution_count": 12,
   "metadata": {},
   "outputs": [
    {
     "name": "stdout",
     "output_type": "stream",
     "text": [
      "True\n"
     ]
    }
   ],
   "source": [
    "x=15\n",
    "y=17\n",
    "print(x!=y)"
   ]
  },
  {
   "cell_type": "code",
   "execution_count": 20,
   "metadata": {},
   "outputs": [
    {
     "name": "stdout",
     "output_type": "stream",
     "text": [
      "14\n"
     ]
    }
   ],
   "source": [
    "x=15\n",
    "y=14\n",
    "print(x&y)"
   ]
  },
  {
   "cell_type": "code",
   "execution_count": 4,
   "metadata": {},
   "outputs": [
    {
     "name": "stdout",
     "output_type": "stream",
     "text": [
      "0b1111\n",
      "0b1110\n"
     ]
    }
   ],
   "source": [
    "x=15\n",
    "y=14\n",
    "print(bin(x))\n",
    "print(bin(y))"
   ]
  },
  {
   "cell_type": "code",
   "execution_count": 7,
   "metadata": {},
   "outputs": [
    {
     "name": "stdout",
     "output_type": "stream",
     "text": [
      "[44]\n"
     ]
    }
   ],
   "source": [
    "lst=[11,22,33,44,55,66,77,88,90]\n",
    "print(lst[3:4])"
   ]
  },
  {
   "cell_type": "code",
   "execution_count": 1,
   "metadata": {},
   "outputs": [
    {
     "name": "stdout",
     "output_type": "stream",
     "text": [
      "45\n"
     ]
    }
   ],
   "source": [
    "a=input(\"enter the value\")\n",
    "print(a)"
   ]
  },
  {
   "cell_type": "code",
   "execution_count": 2,
   "metadata": {},
   "outputs": [
    {
     "name": "stdout",
     "output_type": "stream",
     "text": [
      "4515\n"
     ]
    }
   ],
   "source": [
    "a=input(\"enter the value\")\n",
    "b=input(\"enter the value\")\n",
    "print(a+b)"
   ]
  },
  {
   "cell_type": "code",
   "execution_count": 9,
   "metadata": {},
   "outputs": [
    {
     "name": "stdout",
     "output_type": "stream",
     "text": [
      "24\n"
     ]
    }
   ],
   "source": [
    "a=int(input(\"enter the value\"))\n",
    "b=int(input(\"enter the value\"))\n",
    "print(a+b)"
   ]
  },
  {
   "cell_type": "code",
   "execution_count": 11,
   "metadata": {},
   "outputs": [
    {
     "name": "stdout",
     "output_type": "stream",
     "text": [
      "69.28\n"
     ]
    }
   ],
   "source": [
    "a=float(input(\"enter the value\"))\n",
    "b=float(input(\"enter the value\"))\n",
    "print(a+b)\n"
   ]
  },
  {
   "cell_type": "code",
   "execution_count": 13,
   "metadata": {},
   "outputs": [
    {
     "name": "stdout",
     "output_type": "stream",
     "text": [
      "21.0\n"
     ]
    }
   ],
   "source": [
    "a=eval(input(\"enter the value\"))\n",
    "b=eval(input(\"enter the value\"))\n",
    "print(a+b)"
   ]
  },
  {
   "cell_type": "code",
   "execution_count": 12,
   "metadata": {},
   "outputs": [
    {
     "name": "stdout",
     "output_type": "stream",
     "text": [
      "even number\n"
     ]
    }
   ],
   "source": [
    "a=int(input(\"Enter the value\"))\n",
    "if a%2==0:\n",
    "   print(\"even number\")"
   ]
  },
  {
   "cell_type": "code",
   "execution_count": 14,
   "metadata": {},
   "outputs": [
    {
     "name": "stdout",
     "output_type": "stream",
     "text": [
      "even number\n"
     ]
    }
   ],
   "source": [
    "a = 20\n",
    "if a%2==0:\n",
    "  print(\"even number\")\n",
    "else:\n",
    "    print(\"odd number\")"
   ]
  },
  {
   "cell_type": "code",
   "execution_count": 28,
   "metadata": {},
   "outputs": [
    {
     "name": "stdout",
     "output_type": "stream",
     "text": [
      "odd number\n"
     ]
    }
   ],
   "source": [
    "a = 100001\n",
    "if a%2==0:\n",
    "    print(\"even number\")\n",
    "else:\n",
    "    print(\"odd number\")"
   ]
  },
  {
   "cell_type": "code",
   "execution_count": 32,
   "metadata": {},
   "outputs": [
    {
     "name": "stdout",
     "output_type": "stream",
     "text": [
      "fail\n"
     ]
    }
   ],
   "source": [
    "a = 45\n",
    "if a> 50:\n",
    "    print(\"pass\")\n",
    "else:\n",
    "    print(\"fail\")"
   ]
  },
  {
   "cell_type": "code",
   "execution_count": 49,
   "metadata": {},
   "outputs": [
    {
     "name": "stdout",
     "output_type": "stream",
     "text": [
      "pass\n"
     ]
    }
   ],
   "source": [
    "a = 50\n",
    "\n",
    "if a>10:\n",
    "     print(\"pass\")\n",
    "elif a>60:\n",
    "     print(\"fail\")\n",
    " \n",
    "else:\n",
    "    print(\"error\")\n",
    "                \n"
   ]
  },
  {
   "cell_type": "code",
   "execution_count": 56,
   "metadata": {},
   "outputs": [
    {
     "name": "stdout",
     "output_type": "stream",
     "text": [
      "pass\n",
      "pass\n",
      "pass\n"
     ]
    }
   ],
   "source": [
    "a= int (input(\"enter  the value\"))\n",
    "b= int (input(\"enter  the value\"))\n",
    "c= int (input(\"enter  the value\"))\n",
    "#i'm 100 % sure programe is execute without error\n",
    "if a> 50:\n",
    "    print(\"pass\")\n",
    "    print(\"pass\")\n",
    "    print(\"pass\")\n",
    "elif b<25:\n",
    "    print(\"fail\")\n",
    "elif c>20:\n",
    "    print(\"raiete pass\")\n",
    "else:\n",
    "    print(\"failur student\")\n",
    "    "
   ]
  },
  {
   "cell_type": "code",
   "execution_count": 61,
   "metadata": {},
   "outputs": [
    {
     "name": "stdout",
     "output_type": "stream",
     "text": [
      "end\n"
     ]
    }
   ],
   "source": [
    "a = int(input(\"enter the value\"))\n",
    "b = int(input(\"enter the value\"))\n",
    "\n",
    "# the error is auto correct in python\n",
    "if a>10:\n",
    "    print(\"pass\")\n",
    "elif b==8:\n",
    "    print(\"fail\")\n",
    "else:\n",
    "    print(\"end\")"
   ]
  },
  {
   "cell_type": "code",
   "execution_count": 10,
   "metadata": {},
   "outputs": [
    {
     "name": "stdout",
     "output_type": "stream",
     "text": [
      "\n",
      "+ Add\n",
      "- Subtract\n",
      "* Multiply\n",
      "/ Divide\n",
      "\n",
      "7 + 7\n"
     ]
    }
   ],
   "source": [
    "print('''\n",
    "+ Add\n",
    "- Subtract\n",
    "* Multiply\n",
    "/ Divide\n",
    "''')\n",
    "\n",
    "num1 = int(input(\"Enter the value for num1: \"))\n",
    "num2 = int(input(\"Enter the value for num2: \"))\n",
    "opr = input(\"Operator: \")\n",
    "\n",
    "if opr == \"+\":\n",
    "    result = num1 + num2\n",
    "    print(f\"{num1} + {num2}\")\n",
    "    \n",
    "elif opr == \"-\":\n",
    "    result = num1 - num2\n",
    "    print(f\"{num1} - {num2} \")\n",
    "\n",
    "elif opr == \"*\":\n",
    "    result = num1 * num2\n",
    "    print(f\"{num1} * {num2} \")\n",
    "\n",
    "elif opr == \"/\":\n",
    "    if num2 != 0:\n",
    "        result = num1 / num2\n",
    "        print(f\"{num1} / {num2} \")\n",
    "    else:\n",
    "        print(\"Error: Division by zero\")\n",
    "\n",
    "else:\n",
    "    print(\"Invalid operator. Please choose from +, -, *, /\")\n"
   ]
  },
  {
   "cell_type": "code",
   "execution_count": null,
   "metadata": {},
   "outputs": [],
   "source": [
    "print('''\n",
    "+ Add\n",
    "- Subtract\n",
    "* Multiply\n",
    "/ Divide\n",
    "''')\n",
    "\n",
    "num1 = int(input(\"Enter the value for num1: \"))\n",
    "num2 = int(input(\"Enter the value for num2: \"))\n",
    "opr = input(\"Operator: \")\n",
    "\n",
    "if opr == \"+\":"
   ]
  },
  {
   "cell_type": "code",
   "execution_count": 2,
   "metadata": {},
   "outputs": [
    {
     "name": "stdout",
     "output_type": "stream",
     "text": [
      "\n",
      "+ Add\n",
      "- Subtract\n",
      "* Multiply\n",
      "/ Divide\n",
      "\n",
      "38\n"
     ]
    }
   ],
   "source": [
    "print('''\n",
    "+ Add\n",
    "- Subtract\n",
    "* Multiply\n",
    "/ Divide\n",
    "''')\n",
    "a=int (input(\"Enter the value\"))\n",
    "b=int (input(\"Enter the value\"))\n",
    "opr=input(\"Enter the opr...\")\n",
    "if opr==\"+\":\n",
    "    print(a+b)\n",
    "elif opr==\"-\":\n",
    "    print(a-b)\n",
    "elif opr==\"*\":\n",
    "    print(a*b)\n",
    "elif opr==\"/\":\n",
    "     print(a/b)\n",
    "else:\n",
    "    print(\"invalid oprator...\")"
   ]
  },
  {
   "cell_type": "code",
   "execution_count": 4,
   "metadata": {},
   "outputs": [
    {
     "name": "stdout",
     "output_type": "stream",
     "text": [
      "\n",
      "+ Add\n",
      "- Subtract\n",
      "* Multiply\n",
      "/ Divide\n",
      "\n",
      "128384\n"
     ]
    }
   ],
   "source": [
    "print('''\n",
    "+ Add\n",
    "- Subtract\n",
    "* Multiply\n",
    "/ Divide\n",
    "''')\n",
    "a=int(input(\"Enter the value\"))\n",
    "b=int(input(\"Enter the value\"))\n",
    "opr=input(\"Enter opr...\")\n",
    "if opr==\"+\":\n",
    "    print(a+b)\n",
    "elif opr==\"-\":\n",
    "    print(a-b)\n",
    "elif opr==\"*\":\n",
    "    print(a*b)\n",
    "elif opr==\"/\":\n",
    "    print(a*b)\n",
    "else:\n",
    "    print(\"invalid oprator...\")"
   ]
  },
  {
   "cell_type": "code",
   "execution_count": 5,
   "metadata": {},
   "outputs": [
    {
     "name": "stdout",
     "output_type": "stream",
     "text": [
      "-299\n"
     ]
    }
   ],
   "source": [
    "a=int (input(\"Enter the value\"))\n",
    "b=int (input(\"Enter the value\"))\n",
    "c=int (input(\"Enter the value\"))\n",
    "# we can find out the mathimatical calculation on this point\n",
    "print(a+b-c)"
   ]
  },
  {
   "cell_type": "code",
   "execution_count": 4,
   "metadata": {},
   "outputs": [
    {
     "name": "stdout",
     "output_type": "stream",
     "text": [
      "4\n"
     ]
    }
   ],
   "source": [
    "for n in (\"5\"):\n",
    "    print(4)"
   ]
  },
  {
   "cell_type": "code",
   "execution_count": 3,
   "metadata": {},
   "outputs": [
    {
     "name": "stdout",
     "output_type": "stream",
     "text": [
      "0\n",
      "\n",
      "1\n",
      "\n",
      "2\n",
      "\n",
      "3\n",
      "\n",
      "4\n",
      "\n",
      "1\n"
     ]
    }
   ],
   "source": [
    "for n in range(5):\n",
    "    print(n)\n",
    "    print()\n",
    "for n in range(1,4,8):\n",
    "    print(n)\n",
    "    "
   ]
  },
  {
   "cell_type": "code",
   "execution_count": 23,
   "metadata": {},
   "outputs": [
    {
     "name": "stdout",
     "output_type": "stream",
     "text": [
      "1\n",
      "3\n",
      "5\n"
     ]
    }
   ],
   "source": [
    "for n in range(1,6,2):\n",
    "    print(n)"
   ]
  },
  {
   "cell_type": "code",
   "execution_count": 24,
   "metadata": {},
   "outputs": [
    {
     "name": "stdout",
     "output_type": "stream",
     "text": [
      "1\n",
      "3\n",
      "5\n"
     ]
    }
   ],
   "source": [
    "for n in range(1,6,2):\n",
    "#start =1\n",
    "#condition >6\n",
    "#increment 2\n",
    "    print(n)"
   ]
  },
  {
   "cell_type": "code",
   "execution_count": 35,
   "metadata": {},
   "outputs": [
    {
     "name": "stdout",
     "output_type": "stream",
     "text": [
      "pak\n",
      "pak\n",
      "pak\n",
      "pak\n",
      "pak\n"
     ]
    }
   ],
   "source": [
    "\n",
    "for a in range(5):\n",
    "    print(\"pak\")\n",
    "\n"
   ]
  },
  {
   "cell_type": "code",
   "execution_count": 48,
   "metadata": {},
   "outputs": [],
   "source": [
    "for n in range(2,0,7):\n",
    "    print(\"n\")"
   ]
  },
  {
   "cell_type": "code",
   "execution_count": 53,
   "metadata": {},
   "outputs": [
    {
     "name": "stdout",
     "output_type": "stream",
     "text": [
      "2* 1 = 2\n",
      "2* 2 = 4\n",
      "2* 3 = 6\n",
      "2* 4 = 8\n",
      "2* 5 = 10\n",
      "2* 6 = 12\n",
      "2* 7 = 14\n",
      "2* 8 = 16\n",
      "2* 9 = 18\n",
      "2* 10 = 20\n"
     ]
    }
   ],
   "source": [
    "for a in range(1,11):\n",
    "    print(\"2*\",a,\"=\",2*a)"
   ]
  },
  {
   "cell_type": "code",
   "execution_count": 57,
   "metadata": {},
   "outputs": [
    {
     "name": "stdout",
     "output_type": "stream",
     "text": [
      "3* 1 = 3\n",
      "3* 2 = 6\n",
      "3* 3 = 9\n",
      "3* 4 = 12\n",
      "3* 5 = 15\n",
      "3* 6 = 18\n",
      "3* 7 = 21\n",
      "3* 8 = 24\n",
      "3* 9 = 27\n",
      "3* 10 = 30\n"
     ]
    }
   ],
   "source": [
    "for a in range(1,11):\n",
    "#table arrangemant\n",
    "    print(\"3*\",a,\"=\",3*a)"
   ]
  },
  {
   "cell_type": "code",
   "execution_count": 5,
   "metadata": {},
   "outputs": [
    {
     "name": "stdout",
     "output_type": "stream",
     "text": [
      "4* 1 = 4\n",
      "4* 2 = 8\n",
      "4* 3 = 12\n",
      "4* 4 = 16\n",
      "4* 5 = 20\n",
      "4* 6 = 24\n",
      "4* 7 = 28\n",
      "4* 8 = 32\n",
      "4* 9 = 36\n",
      "4* 10 = 40\n"
     ]
    }
   ],
   "source": [
    "for a in range(1,11):\n",
    "    print(\"4*\",a,\"=\",4*a)"
   ]
  },
  {
   "cell_type": "code",
   "execution_count": null,
   "metadata": {},
   "outputs": [],
   "source": [
    "a=int(input(\"Enter the value\"))\n",
    "b=int(input(\"Enter the value\"))\n",
    "opr=input(\"+\",\"-\",\"*\",\"/\")\n",
    "opr="
   ]
  },
  {
   "cell_type": "code",
   "execution_count": 17,
   "metadata": {},
   "outputs": [
    {
     "name": "stdout",
     "output_type": "stream",
     "text": [
      "8\n",
      "y\n",
      "m\n",
      "r\n",
      "a\n",
      " \n",
      "k\n",
      "a\n",
      "p\n"
     ]
    }
   ],
   "source": [
    "w = \"pak army\"\n",
    "\n",
    "t = len(w)\n",
    "print(t)\n",
    "for a in range(t-1,-1,-1):\n",
    "    print(w[a])"
   ]
  },
  {
   "cell_type": "code",
   "execution_count": 7,
   "metadata": {},
   "outputs": [
    {
     "name": "stdout",
     "output_type": "stream",
     "text": [
      "welcome to pak\n"
     ]
    }
   ],
   "source": [
    "w= \"WELCOME to pak\"\n",
    "n=w.lower ()\n",
    "print(n)"
   ]
  },
  {
   "cell_type": "code",
   "execution_count": 8,
   "metadata": {},
   "outputs": [
    {
     "name": "stdout",
     "output_type": "stream",
     "text": [
      "THE FOX JUMP OVER THE LAZY DOG\n"
     ]
    }
   ],
   "source": [
    "w =\"the fox jump over the lazy dog\"\n",
    "u=w.upper()\n",
    "print(u)"
   ]
  },
  {
   "cell_type": "code",
   "execution_count": 11,
   "metadata": {},
   "outputs": [
    {
     "name": "stdout",
     "output_type": "stream",
     "text": [
      "The Fox Jump Over The Lazy Dog\n"
     ]
    }
   ],
   "source": [
    "w =\"the fox jump over the lazy dog\"\n",
    "t=w.title()\n",
    "print(t)"
   ]
  },
  {
   "cell_type": "code",
   "execution_count": 13,
   "metadata": {},
   "outputs": [
    {
     "name": "stdout",
     "output_type": "stream",
     "text": [
      "The fox jump over the lazy dog\n"
     ]
    }
   ],
   "source": [
    "w =\"the fox jump Over the Lazy dog\"\n",
    "c=w.capitalize()\n",
    "print(c)\n"
   ]
  },
  {
   "cell_type": "code",
   "execution_count": 23,
   "metadata": {},
   "outputs": [
    {
     "name": "stdout",
     "output_type": "stream",
     "text": [
      "15\n"
     ]
    }
   ],
   "source": [
    "w =\"the fox jump Over the Lazy dog\"\n",
    "print(w.find('e',3))"
   ]
  },
  {
   "cell_type": "code",
   "execution_count": 27,
   "metadata": {},
   "outputs": [
    {
     "name": "stdout",
     "output_type": "stream",
     "text": [
      "15\n"
     ]
    }
   ],
   "source": [
    "w =\"the fox jump Over the Lazy dog\"\n",
    "print(w.index('e',3))"
   ]
  },
  {
   "cell_type": "code",
   "execution_count": 28,
   "metadata": {},
   "outputs": [
    {
     "name": "stdout",
     "output_type": "stream",
     "text": [
      "The Fox Jump Over The Lazy Dog\n"
     ]
    }
   ],
   "source": [
    "w =\"the fox jump Over the Lazy dog\"\n",
    "u=w.title()\n",
    "print(u)"
   ]
  },
  {
   "cell_type": "code",
   "execution_count": 30,
   "metadata": {},
   "outputs": [
    {
     "name": "stdout",
     "output_type": "stream",
     "text": [
      "the fox jump over the lazy dog\n"
     ]
    }
   ],
   "source": [
    "w =\"The fox jump Over the Lazy dog\"\n",
    "l=w.lower()\n",
    "print(l)"
   ]
  },
  {
   "cell_type": "code",
   "execution_count": 36,
   "metadata": {},
   "outputs": [
    {
     "name": "stdout",
     "output_type": "stream",
     "text": [
      "False\n"
     ]
    }
   ],
   "source": [
    "w =\"pakistan\"\n",
    "print(w.isalpha())"
   ]
  },
  {
   "cell_type": "code",
   "execution_count": 37,
   "metadata": {},
   "outputs": [
    {
     "name": "stdout",
     "output_type": "stream",
     "text": [
      "False\n"
     ]
    }
   ],
   "source": [
    "w =\"pakistan1233\"\n",
    "print(w.isalpha())"
   ]
  },
  {
   "cell_type": "code",
   "execution_count": 40,
   "metadata": {},
   "outputs": [
    {
     "name": "stdout",
     "output_type": "stream",
     "text": [
      "True\n"
     ]
    }
   ],
   "source": [
    "w=\"12389438598\"\n",
    "print(w.isdigit())"
   ]
  },
  {
   "cell_type": "code",
   "execution_count": 43,
   "metadata": {},
   "outputs": [
    {
     "name": "stdout",
     "output_type": "stream",
     "text": [
      "True\n"
     ]
    }
   ],
   "source": [
    "w= \"123weAREPAKISTANI345\"\n",
    "print(w.isalnum())"
   ]
  },
  {
   "cell_type": "code",
   "execution_count": 59,
   "metadata": {},
   "outputs": [
    {
     "name": "stdout",
     "output_type": "stream",
     "text": [
      "welcome  to hello pakistan\n"
     ]
    }
   ],
   "source": [
    "w=\"welcome  to {} pakistan\".format(\"hello\",30);\n",
    "print(w)"
   ]
  },
  {
   "cell_type": "code",
   "execution_count": 62,
   "metadata": {},
   "outputs": [
    {
     "name": "stdout",
     "output_type": "stream",
     "text": [
      "welcome hello to 30 pakistan\n"
     ]
    }
   ],
   "source": [
    "w=\"welcome {0} to {1} pakistan\".format(\"hello\",30);\n",
    "print(w)"
   ]
  },
  {
   "cell_type": "code",
   "execution_count": 72,
   "metadata": {},
   "outputs": [
    {
     "name": "stdout",
     "output_type": "stream",
     "text": [
      "welcome greAT        to NICE       pakistan\n"
     ]
    }
   ],
   "source": [
    "w=\"welcome {a:<12} to {b:10} pakistan\".format(a=\"greAT\",b=\"NICE\");\n",
    "print(w)"
   ]
  },
  {
   "cell_type": "code",
   "execution_count": 79,
   "metadata": {},
   "outputs": [
    {
     "name": "stdout",
     "output_type": "stream",
     "text": [
      "[]\n"
     ]
    }
   ],
   "source": [
    "lst=[21,3,45,67,87,\"sykoo\",2, '@',]\n",
    "print(lst[-1:-7])"
   ]
  },
  {
   "cell_type": "code",
   "execution_count": 13,
   "metadata": {},
   "outputs": [
    {
     "name": "stdout",
     "output_type": "stream",
     "text": [
      "[1, 2, 3, 4, 5, 6, 7, 8, 9, 10, 11, 12, 13, 14, 15, 16, 17, 18, 19, 20, 21, 22, 23, 24, 25, 26, 27, 28, 29, 30, 31, 32, 33, 34, 35, 36, 37, 38, 39, 40, 41, 42, 43, 44, 45, 46, 47, 48, 49, 50]\n"
     ]
    }
   ],
   "source": [
    "m=[h for h in range(1,51)]\n",
    "print(m)\n",
    "\n",
    "l=[]\n",
    "for a in range(1,51):\n",
    "    l.append(a)"
   ]
  },
  {
   "cell_type": "code",
   "execution_count": 32,
   "metadata": {},
   "outputs": [
    {
     "name": "stdout",
     "output_type": "stream",
     "text": [
      "[12, 32, 45, 56, 67, 98, 778]\n"
     ]
    }
   ],
   "source": [
    "l=[12,32,45,56,67,778,98]\n",
    "l.sort()\n",
    "print(l)"
   ]
  },
  {
   "cell_type": "code",
   "execution_count": 10,
   "metadata": {},
   "outputs": [
    {
     "name": "stdout",
     "output_type": "stream",
     "text": [
      "10 23\n",
      "20 54\n",
      "30 67\n",
      "40 98\n",
      "50 0934\n",
      "60 32\n"
     ]
    }
   ],
   "source": [
    "l = [10, 20, 30, 40, 50, 60]\n",
    "l1 = ['23', '54', '67', '98', '0934', '32', '23']\n",
    "t=len(l)\n",
    "\n",
    "for a, b in zip(l, l1):\n",
    "    print(a, b)\n",
    "    \n",
    "for h in range(t):\n",
    "    print(l[h],l1[h])\n"
   ]
  },
  {
   "cell_type": "code",
   "execution_count": 21,
   "metadata": {},
   "outputs": [
    {
     "name": "stdout",
     "output_type": "stream",
     "text": [
      "hjj\n",
      "hjj\n",
      "['iujk']\n",
      "['iujk', 'oilk']\n",
      "['iujk', 'oilk', 'ikj']\n"
     ]
    }
   ],
   "source": [
    "n=input(\"Enter the value\")\n",
    "print(n)\n",
    "l=n.split();\n",
    "print(n)\n",
    "\n",
    "#end\n",
    "\n",
    "l=[]\n",
    "for a in range(1,4):\n",
    "    n=input(\"Enter the value\"+str(a))\n",
    "    l.append(n)\n",
    "    print(l)\n"
   ]
  },
  {
   "cell_type": "code",
   "execution_count": 5,
   "metadata": {},
   "outputs": [
    {
     "name": "stdout",
     "output_type": "stream",
     "text": [
      "Negative number\n"
     ]
    }
   ],
   "source": [
    "num = float(input(\"Enter the value:\"))\n",
    "\n",
    "if num >= 0:\n",
    "    if num == 0:\n",
    "        print(\"Zero\")\n",
    "    else:\n",
    "        print(\"Positive number\")\n",
    "else:\n",
    "    print(\"Negative number\")\n"
   ]
  },
  {
   "cell_type": "code",
   "execution_count": 11,
   "metadata": {},
   "outputs": [
    {
     "name": "stdout",
     "output_type": "stream",
     "text": [
      "5 jonn 4\n"
     ]
    }
   ],
   "source": [
    "x=5\n",
    "y=\"jonn\"\n",
    "l= len(y)\n",
    "print(x,y,l)"
   ]
  },
  {
   "cell_type": "code",
   "execution_count": 20,
   "metadata": {},
   "outputs": [
    {
     "name": "stdout",
     "output_type": "stream",
     "text": [
      "{'course': 'python', 'fees': 10000, 'duration': '3 month'}\n"
     ]
    }
   ],
   "source": [
    "d={\n",
    "    'course':'python',\n",
    "  'fees':8000,\n",
    "  'duration' : '2 months'\n",
    "}\n",
    "d['fees']=10000\n",
    "d['duration']='3 month'\n",
    "print(d)"
   ]
  },
  {
   "cell_type": "markdown",
   "metadata": {},
   "source": []
  },
  {
   "cell_type": "markdown",
   "metadata": {},
   "source": []
  }
 ],
 "metadata": {
  "kernelspec": {
   "display_name": "Python 3",
   "language": "python",
   "name": "python3"
  },
  "language_info": {
   "codemirror_mode": {
    "name": "ipython",
    "version": 3
   },
   "file_extension": ".py",
   "mimetype": "text/x-python",
   "name": "python",
   "nbconvert_exporter": "python",
   "pygments_lexer": "ipython3",
   "version": "3.12.0"
  }
 },
 "nbformat": 4,
 "nbformat_minor": 2
}
